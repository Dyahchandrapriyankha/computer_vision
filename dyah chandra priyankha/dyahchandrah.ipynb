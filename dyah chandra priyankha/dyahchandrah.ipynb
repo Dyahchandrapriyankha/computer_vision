{
 "cells": [
  {
   "cell_type": "code",
   "execution_count": 4,
   "id": "d69e45b5-2581-4b8a-b4f0-b22e15bbb626",
   "metadata": {},
   "outputs": [],
   "source": [
    "import cv2 as cv\n",
    "import numpy as np\n",
    "\n",
    "# Membaca gambar\n",
    "image = cv.imread(\"chan.jpeg\")\n",
    "\n",
    "\n",
    "# Convert the image to HSV color space\n",
    "hsv = cv.cvtColor(image, cv.COLOR_BGR2HSV)\n",
    "\n",
    "# Define the color range for the wall (light gray/white)\n",
    "# Adjust these values if needed to better match the wall color\n",
    "lower_wall = np.array([0, 0, 180])   # Lower bound for wall color in HSV\n",
    "upper_wall = np.array([180, 20, 255]) # Upper bound for wall color in HSV\n",
    "\n",
    "# Create a mask for the wall color\n",
    "mask = cv.inRange(hsv, lower_wall, upper_wall)\n",
    "\n",
    "# Create a blue background with the same size as the original image\n",
    "blue_background = np.full_like(image, (255, 0, 0))  # Blue in BGR format\n",
    "\n",
    "# Apply the mask to replace the wall color with blue\n",
    "result = cv.bitwise_and(blue_background, blue_background, mask=mask)\n",
    "result = cv.bitwise_or(result, cv.bitwise_and(image, image, mask=cv.bitwise_not(mask)))\n",
    "\n",
    "\n",
    "# Menyimpan atau menampilkan hasil\n",
    "cv.imwrite(\"/mnt/data/gambar_dengan_background_biru.jpeg\", result)\n",
    "cv.imshow(\"Gambar dengan Background Biru\", result)\n",
    "cv.waitKey(0)\n",
    "cv.destroyAllWindows()\n"
   ]
  },
  {
   "cell_type": "code",
   "execution_count": null,
   "id": "02c06090-566d-42fd-a8db-ce373a0c4db9",
   "metadata": {},
   "outputs": [],
   "source": []
  }
 ],
 "metadata": {
  "kernelspec": {
   "display_name": "Python 3 (ipykernel)",
   "language": "python",
   "name": "python3"
  },
  "language_info": {
   "codemirror_mode": {
    "name": "ipython",
    "version": 3
   },
   "file_extension": ".py",
   "mimetype": "text/x-python",
   "name": "python",
   "nbconvert_exporter": "python",
   "pygments_lexer": "ipython3",
   "version": "3.10.11"
  }
 },
 "nbformat": 4,
 "nbformat_minor": 5
}
