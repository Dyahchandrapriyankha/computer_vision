{
 "cells": [
  {
   "cell_type": "code",
   "execution_count": 22,
   "id": "94f61979-480c-4070-9bc9-e090e712d7c9",
   "metadata": {},
   "outputs": [],
   "source": [
    "import cv2\n",
    "import numpy as np\n",
    "\n",
    "width = 600\n",
    "height = 400\n",
    "\n",
    "blue = (255,215,0)\n",
    "yellow = (0,255,255)\n",
    "\n",
    "flag = np.zeros((height,width,3),dtype=np.uint8)\n",
    "\n",
    "\n",
    "flag[:height//2,:]=blue\n",
    "flag[:height//2:,:]= yellow\n",
    "\n",
    "cv2.imshow(\"Bendera Ukraina\",flag)\n",
    "cv2.waitKey(0)\n",
    "cv2.destroyAllWindows()\n"
   ]
  },
  {
   "cell_type": "code",
   "execution_count": null,
   "id": "5ed6380b-582e-4032-94ee-4524e3a7ee47",
   "metadata": {},
   "outputs": [],
   "source": []
  },
  {
   "cell_type": "code",
   "execution_count": null,
   "id": "a5b584e9-a895-4d7e-9659-30998248d7b6",
   "metadata": {},
   "outputs": [],
   "source": []
  }
 ],
 "metadata": {
  "kernelspec": {
   "display_name": "Python 3 (ipykernel)",
   "language": "python",
   "name": "python3"
  },
  "language_info": {
   "codemirror_mode": {
    "name": "ipython",
    "version": 3
   },
   "file_extension": ".py",
   "mimetype": "text/x-python",
   "name": "python",
   "nbconvert_exporter": "python",
   "pygments_lexer": "ipython3",
   "version": "3.10.11"
  }
 },
 "nbformat": 4,
 "nbformat_minor": 5
}
